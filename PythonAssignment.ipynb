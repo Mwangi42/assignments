{
 "cells": [
  {
   "cell_type": "markdown",
   "metadata": {},
   "source": [
    "*Question One:* _List Comprehension_"
   ]
  },
  {
   "cell_type": "code",
   "execution_count": 42,
   "metadata": {},
   "outputs": [
    {
     "name": "stdout",
     "output_type": "stream",
     "text": [
      "1 , 3 , 5 , 7 , 9 , 11 , 13 , 15 , 17 , 19 , "
     ]
    }
   ],
   "source": [
    "# Write a python program that outputs the squares of odd numbers from range of 1 to 20\n",
    "start, end = 1,20\n",
    "for number in range (1,20 ):\n",
    "   if number %2 == 1 :\n",
    "    print (number ,end=\" , \")\n",
    "    \n"
   ]
  },
  {
   "cell_type": "markdown",
   "metadata": {},
   "source": [
    "*Question Two:* _Integers_"
   ]
  },
  {
   "cell_type": "code",
   "execution_count": 65,
   "metadata": {},
   "outputs": [
    {
     "name": "stdout",
     "output_type": "stream",
     "text": [
      "enter your number here41\n",
      "not multiple of five\n"
     ]
    }
   ],
   "source": [
    "# Write a program to check whether the given integer is a multiple of 5_\n",
    "num =int(input(\"enter your number here\"))\n",
    "if (num%5) ==0:\n",
    "    print(\"thats a multiple of five \")\n",
    "else :\n",
    "    print(\"not multiple of five\")"
   ]
  },
  {
   "cell_type": "markdown",
   "metadata": {},
   "source": [
    "##### *Question Three*: _If Statement_"
   ]
  },
  {
   "cell_type": "code",
   "execution_count": 47,
   "metadata": {},
   "outputs": [
    {
     "name": "stdout",
     "output_type": "stream",
     "text": [
      "enter your number6\n",
      "6 is not prime\n"
     ]
    }
   ],
   "source": [
    "# Write a program python program to check whether the given integer is a prime number or not\n",
    "n=int (input(\"enter your number\"))\n",
    "for i in range(2,n,):\n",
    "    if (n%i) == 0:\n",
    "        print (n,\"is not prime\")\n",
    "        break\n",
    "    else:\n",
    "        print (n,\"is  prime\")\n",
    "        break\n",
    "        \n"
   ]
  },
  {
   "cell_type": "markdown",
   "metadata": {},
   "source": [
    "*Question Four:* _User-defined Functions_"
   ]
  },
  {
   "cell_type": "code",
   "execution_count": 25,
   "metadata": {},
   "outputs": [
    {
     "name": "stdout",
     "output_type": "stream",
     "text": [
      "input first value4\n",
      "enter secon value2\n",
      "enter desired operation/\n",
      "answer is 2.0\n"
     ]
    }
   ],
   "source": [
    "# Write a program to implement a calculator to do basic operations (+,-,*,/)\n",
    "firstvalue =int(input(\"input first value\"))\n",
    "finalvalue=int(input(\"enter secon value\"))\n",
    "operator =input(\"enter desired operation\")\n",
    "\n",
    "if operator == '+' :\n",
    "    print(\"answer is\",firstvalue+finalvalue) \n",
    "elif operator == '-' :\n",
    "    print(\"answer is\",firstvalue-finalvalue)\n",
    "elif operator == '*' :\n",
    "    print(\"answer is\",firstvalue*finalvalue)\n",
    "elif operator == '/' :\n",
    "    print(\"answer is\",firstvalue/finalvalue)\n",
    "else:\n",
    "    print(\"input invalid\")\n",
    "    \n",
    " \n",
    " \n",
    "\n",
    "\n"
   ]
  },
  {
   "cell_type": "markdown",
   "metadata": {},
   "source": [
    "*Question Five:* _Dictionaries & For Loop_"
   ]
  },
  {
   "cell_type": "code",
   "execution_count": 55,
   "metadata": {},
   "outputs": [
    {
     "data": {
      "text/plain": [
       "{'cake': 50.75, 'pudding': 70.0, 'soda': 60.25}"
      ]
     },
     "execution_count": 55,
     "metadata": {},
     "output_type": "execute_result"
    }
   ],
   "source": [
    "# Create a simple dictionary and write a program to print all the items in your dictionary\n",
    "prices={\"cake\":50.75,\"pudding\":70.00,\"soda\":60.25}\n",
    "prices"
   ]
  }
 ],
 "metadata": {
  "interpreter": {
   "hash": "1e4af7d8341c13d568efc1f8500c9e0239c4d10084c4659a417b8b188748b437"
  },
  "kernelspec": {
   "display_name": "Python 3 (ipykernel)",
   "language": "python",
   "name": "python3"
  },
  "language_info": {
   "codemirror_mode": {
    "name": "ipython",
    "version": 3
   },
   "file_extension": ".py",
   "mimetype": "text/x-python",
   "name": "python",
   "nbconvert_exporter": "python",
   "pygments_lexer": "ipython3",
   "version": "3.9.7"
  }
 },
 "nbformat": 4,
 "nbformat_minor": 2
}
